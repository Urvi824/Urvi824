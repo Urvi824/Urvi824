{
 "cells": [
  {
   "cell_type": "code",
   "execution_count": 3,
   "id": "e50a565b-6f01-45ee-8935-ce880c359b83",
   "metadata": {},
   "outputs": [
    {
     "name": "stdin",
     "output_type": "stream",
     "text": [
      "Enter a number:  12345678\n"
     ]
    },
    {
     "name": "stdout",
     "output_type": "stream",
     "text": [
      "Number of digits is: 8\n"
     ]
    }
   ],
   "source": [
    "# Get input from user\n",
    "num = int(input(\"Enter a number: \"))\n",
    "\n",
    "# Handle negative numbers\n",
    "num = abs(num)\n",
    "\n",
    "# Special case for zero\n",
    "if num == 0:\n",
    "    count = 1\n",
    "else:\n",
    "    count = 0\n",
    "    while num > 0:\n",
    "        num = num // 10  # Remove the last digit\n",
    "        count += 1\n",
    "\n",
    "print(\"Number of digits is:\", count)\n"
   ]
  },
  {
   "cell_type": "code",
   "execution_count": 6,
   "id": "59deb7f8-dd5d-4915-9403-2774b9b199c9",
   "metadata": {},
   "outputs": [
    {
     "name": "stdin",
     "output_type": "stream",
     "text": [
      "Enter a number:  16\n"
     ]
    },
    {
     "name": "stdout",
     "output_type": "stream",
     "text": [
      "Yes, it's a power of two.\n"
     ]
    }
   ],
   "source": [
    "# input from user\n",
    "num = int(input(\"Enter a number: \"))\n",
    "\n",
    "# Check for number\n",
    "if num <= 0:\n",
    "    print(\"Number is not a power of two.\")\n",
    "else:\n",
    "    # Keep dividing by 2 while number is even\n",
    "    while num % 2 == 0:\n",
    "        num = num // 2\n",
    "\n",
    "    # If number becomes 1, it was a power of two\n",
    "    if num == 1:\n",
    "        print(\"Yes, it's a power of two.\")\n",
    "    else:\n",
    "        print(\"No, it's not a power of two.\")\n"
   ]
  },
  {
   "cell_type": "code",
   "execution_count": null,
   "id": "2c32624c-6987-4a06-a001-0cfc65f35822",
   "metadata": {},
   "outputs": [],
   "source": []
  }
 ],
 "metadata": {
  "kernelspec": {
   "display_name": "Python [conda env:base] *",
   "language": "python",
   "name": "conda-base-py"
  },
  "language_info": {
   "codemirror_mode": {
    "name": "ipython",
    "version": 3
   },
   "file_extension": ".py",
   "mimetype": "text/x-python",
   "name": "python",
   "nbconvert_exporter": "python",
   "pygments_lexer": "ipython3",
   "version": "3.12.7"
  }
 },
 "nbformat": 4,
 "nbformat_minor": 5
}
