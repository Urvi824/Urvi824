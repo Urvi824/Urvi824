{
 "cells": [
  {
   "cell_type": "code",
   "execution_count": 8,
   "id": "a219ca87-bbe1-490f-8869-0a2f09bf0b5b",
   "metadata": {},
   "outputs": [
    {
     "name": "stdout",
     "output_type": "stream",
     "text": [
      "\n",
      "Describe:\n",
      "\n",
      "               Id  SepalLengthCm  SepalWidthCm  PetalLengthCm  PetalWidthCm\n",
      "count  150.000000     150.000000    150.000000     150.000000    150.000000\n",
      "mean    75.500000       5.843333      3.054000       3.758667      1.198667\n",
      "std     43.445368       0.828066      0.433594       1.764420      0.763161\n",
      "min      1.000000       4.300000      2.000000       1.000000      0.100000\n",
      "25%     38.250000       5.100000      2.800000       1.600000      0.300000\n",
      "50%     75.500000       5.800000      3.000000       4.350000      1.300000\n",
      "75%    112.750000       6.400000      3.300000       5.100000      1.800000\n",
      "max    150.000000       7.900000      4.400000       6.900000      2.500000\n"
     ]
    }
   ],
   "source": [
    "#data clean \n",
    "import numpy as np\n",
    "import pandas as pd\n",
    "\n",
    "# Load the Iris dataset (make sure 'Iris.csv' is in the same directory)\n",
    "df = pd.read_csv(\"Iris.csv\")\n",
    "\n",
    "print(\"\\nDescribe:\\n\")\n",
    "print(df.describe())\n",
    "\n",
    "# sample random rows from data set\n",
    "#df.sample(10)\n",
    "\n",
    "\n",
    "# remove rows with any missining value\n",
    "#df.dropna(inplace=True)\n",
    "\n",
    "# replace with 0\n",
    "#df.fillna(value=0, inplace=True)\n",
    "\n",
    "# drop duplicate value\n",
    "#df.drop_duplicate(inplace=True)\n",
    "\n"
   ]
  },
  {
   "cell_type": "code",
   "execution_count": null,
   "id": "8d0e56a3-7930-41de-b0b6-1e0083152854",
   "metadata": {},
   "outputs": [],
   "source": []
  }
 ],
 "metadata": {
  "kernelspec": {
   "display_name": "Python [conda env:base] *",
   "language": "python",
   "name": "conda-base-py"
  },
  "language_info": {
   "codemirror_mode": {
    "name": "ipython",
    "version": 3
   },
   "file_extension": ".py",
   "mimetype": "text/x-python",
   "name": "python",
   "nbconvert_exporter": "python",
   "pygments_lexer": "ipython3",
   "version": "3.12.7"
  }
 },
 "nbformat": 4,
 "nbformat_minor": 5
}
