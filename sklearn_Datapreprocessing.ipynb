{
 "cells": [
  {
   "cell_type": "code",
   "execution_count": 3,
   "id": "3a52a3de-2c21-4cb5-8214-57829f339d1d",
   "metadata": {},
   "outputs": [],
   "source": [
    "#import libraries\n",
    "import pandas as pd\n",
    "from sklearn.preprocessing import MinMaxScaler, LabelEncoder\n",
    "\n"
   ]
  },
  {
   "cell_type": "code",
   "execution_count": 4,
   "id": "374eb7a6-ab09-4bf7-9a4c-14919502f2b9",
   "metadata": {},
   "outputs": [],
   "source": [
    "# Sample cleaned data (replace this with your cleaned DataFrame)\n",
    "data = {\n",
    "    'Rank': [1, 2, 3, 4, 5],\n",
    "    'Title': ['The Shawshank Redemption', 'The Godfather', 'The Godfather: Part II', 'The Dark Knight', '12 Angry Men'],\n",
    "    'Year': [1994, 1972, 1974, 2008, 1957],\n",
    "    'Rating': [9.2, 9.1, 9.0, 9.0, 8.9]\n",
    "}\n"
   ]
  },
  {
   "cell_type": "code",
   "execution_count": 5,
   "id": "729acc7c-9482-40d6-af6a-8c2f22954a83",
   "metadata": {},
   "outputs": [],
   "source": [
    "df = pd.DataFrame(data)\n",
    "\n",
    "# 1. Transformations (if needed)\n",
    "# Example: Create a new feature 'Age' of movie as current year - release year\n",
    "current_year = 2025\n",
    "df['Age'] = current_year - df['Year']\n"
   ]
  },
  {
   "cell_type": "code",
   "execution_count": 6,
   "id": "64338fa4-758b-4841-aa94-c053a34491a7",
   "metadata": {},
   "outputs": [],
   "source": [
    "# 2. Normalization\n",
    "# Normalize numerical columns 'Rank', 'Rating', and 'Age' using Min-Max Scaling (scale 0-1)\n",
    "scaler = MinMaxScaler()\n",
    "df[['Rank_norm', 'Rating_norm', 'Age_norm']] = scaler.fit_transform(df[['Rank', 'Rating', 'Age']])\n"
   ]
  },
  {
   "cell_type": "code",
   "execution_count": 7,
   "id": "71d14ad5-f588-4295-927f-ea90734fc032",
   "metadata": {},
   "outputs": [],
   "source": [
    "# 3. Encoding\n",
    "# Encode 'Title' to numeric labels using LabelEncoder (if needed for ML models)\n",
    "le = LabelEncoder()\n",
    "df['Title_encoded'] = le.fit_transform(df['Title'])\n"
   ]
  },
  {
   "cell_type": "code",
   "execution_count": 8,
   "id": "8794af88-8c69-4d82-bdac-6421dd2199a8",
   "metadata": {},
   "outputs": [
    {
     "name": "stdout",
     "output_type": "stream",
     "text": [
      "Preprocessed Data:\n",
      "   Rank                     Title  Year  Rating  Age  Rank_norm  Rating_norm  \\\n",
      "0     1  The Shawshank Redemption  1994     9.2   31       0.00     1.000000   \n",
      "1     2             The Godfather  1972     9.1   53       0.25     0.666667   \n",
      "2     3    The Godfather: Part II  1974     9.0   51       0.50     0.333333   \n",
      "3     4           The Dark Knight  2008     9.0   17       0.75     0.333333   \n",
      "4     5              12 Angry Men  1957     8.9   68       1.00     0.000000   \n",
      "\n",
      "   Age_norm  Title_encoded  \n",
      "0  0.274510              4  \n",
      "1  0.705882              2  \n",
      "2  0.666667              3  \n",
      "3  0.000000              1  \n",
      "4  1.000000              0  \n"
     ]
    }
   ],
   "source": [
    "\n",
    "# Drop original columns if only normalized/encoded data is needed (optional)\n",
    "# df = df.drop(columns=['Rank', 'Rating', 'Age', 'Title'])\n",
    "\n",
    "print(\"Preprocessed Data:\")\n",
    "print(df)"
   ]
  },
  {
   "cell_type": "code",
   "execution_count": null,
   "id": "bfca69c7-6179-43f5-b6ad-a714984fb2a0",
   "metadata": {},
   "outputs": [],
   "source": []
  }
 ],
 "metadata": {
  "kernelspec": {
   "display_name": "Python [conda env:base] *",
   "language": "python",
   "name": "conda-base-py"
  },
  "language_info": {
   "codemirror_mode": {
    "name": "ipython",
    "version": 3
   },
   "file_extension": ".py",
   "mimetype": "text/x-python",
   "name": "python",
   "nbconvert_exporter": "python",
   "pygments_lexer": "ipython3",
   "version": "3.12.7"
  }
 },
 "nbformat": 4,
 "nbformat_minor": 5
}
