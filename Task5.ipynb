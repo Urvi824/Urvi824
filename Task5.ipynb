{
 "cells": [
  {
   "cell_type": "code",
   "execution_count": 3,
   "id": "ef6048a8-71e6-4bcf-aab6-52644c312496",
   "metadata": {},
   "outputs": [
    {
     "name": "stdout",
     "output_type": "stream",
     "text": [
      "Second largest number is: 115\n"
     ]
    }
   ],
   "source": [
    " #list of numbers\n",
    "numbers = [45, 12, 78, 34, 89, 23, 5, 67,95,115,125]\n",
    "\n",
    "# Check if list has at least two elements\n",
    "if len(numbers) < 2:\n",
    "    print(\"List should have at least two numbers.\")\n",
    "else:\n",
    "    # Remove the largest number\n",
    "    largest = max(numbers)\n",
    "    numbers.remove(largest)\n",
    "\n",
    "    # Find the second largest\n",
    "    second_largest = max(numbers)\n",
    "\n",
    "    print(\"Second largest number is:\", second_largest)"
   ]
  },
  {
   "cell_type": "code",
   "execution_count": 5,
   "id": "5e886ec4-7614-4fc2-ba73-01e0f4e783ef",
   "metadata": {},
   "outputs": [
    {
     "name": "stdout",
     "output_type": "stream",
     "text": [
      "Second largest number is: 135\n"
     ]
    }
   ],
   "source": [
    "# Sample list of numbers\n",
    "numbers = [45, 12, 78, 34, 89, 23, 95,15, 67,125,135,225]\n",
    "\n",
    "# Check if list has at least two elements\n",
    "if len(numbers) < 2:\n",
    "    print(\"List should have at least two numbers.\")\n",
    "else:\n",
    "    largest = second_largest = float('-inf')\n",
    "\n",
    "    for num in numbers:\n",
    "        if num > largest:\n",
    "            second_largest = largest\n",
    "            largest = num\n",
    "        elif num > second_largest and num != largest:\n",
    "            second_largest = num\n",
    "\n",
    "    print(\"Second largest number is:\", second_largest)\n"
   ]
  },
  {
   "cell_type": "code",
   "execution_count": null,
   "id": "b730afdb-71a2-47d7-8b5f-a7b98b28eda0",
   "metadata": {},
   "outputs": [],
   "source": []
  }
 ],
 "metadata": {
  "kernelspec": {
   "display_name": "Python [conda env:base] *",
   "language": "python",
   "name": "conda-base-py"
  },
  "language_info": {
   "codemirror_mode": {
    "name": "ipython",
    "version": 3
   },
   "file_extension": ".py",
   "mimetype": "text/x-python",
   "name": "python",
   "nbconvert_exporter": "python",
   "pygments_lexer": "ipython3",
   "version": "3.12.7"
  }
 },
 "nbformat": 4,
 "nbformat_minor": 5
}
