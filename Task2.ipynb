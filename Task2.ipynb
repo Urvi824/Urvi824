{
 "cells": [
  {
   "cell_type": "code",
   "execution_count": 2,
   "id": "9073d35c-a73a-4e33-baf8-1b7d5729dbca",
   "metadata": {},
   "outputs": [
    {
     "name": "stdout",
     "output_type": "stream",
     "text": [
      "List of numbers: [25, 12, 14, 78, 35, 25, 89, 5, 10, 67, 95]\n",
      "Maximum value: 95\n",
      "Minimum value: 5\n"
     ]
    }
   ],
   "source": [
    "#find maximum and minimum number of list \n",
    "\n",
    "#list of number\n",
    "numbers = [25,12,14,78,35,25,89,5,10,67,95]\n",
    "\n",
    "maximum = max(numbers)\n",
    "minimum =min(numbers)\n",
    "\n",
    "#display the maximum and minimum number of list \n",
    "print(\"List of numbers:\", numbers)\n",
    "print(\"Maximum value:\", maximum)\n",
    "print(\"Minimum value:\", minimum)"
   ]
  },
  {
   "cell_type": "code",
   "execution_count": 4,
   "id": "b5fe115d-cf05-4159-9523-5def1d1a41e6",
   "metadata": {},
   "outputs": [
    {
     "name": "stdin",
     "output_type": "stream",
     "text": [
      "Enter a number to check if it's prime:  12\n"
     ]
    },
    {
     "name": "stdout",
     "output_type": "stream",
     "text": [
      "12 is not a prime number.\n"
     ]
    }
   ],
   "source": [
    "# number is prime or not prime number\n",
    "\n",
    "# Get input from user\n",
    "num = int(input(\"Enter a number to check if it's prime: \"))\n",
    "\n",
    "# Prime check logic\n",
    "if num <= 1:\n",
    "    print(f\"{num} is not a prime number.\")\n",
    "else:\n",
    "    is_prime = True  # Assume it's prime unless proven otherwise\n",
    "    for i in range(2, int(num**0.5) + 1):\n",
    "        if num % i == 0:\n",
    "            is_prime = False\n",
    "            break  # No need to check further if one factor is found\n",
    "    if is_prime:\n",
    "        print(f\"{num} is a prime number.\")\n",
    "    else:\n",
    "        print(f\"{num} is not a prime number.\")"
   ]
  },
  {
   "cell_type": "code",
   "execution_count": 1,
   "id": "c0909a67-6c4b-44e5-a5c4-781ac67b6098",
   "metadata": {},
   "outputs": [
    {
     "name": "stdin",
     "output_type": "stream",
     "text": [
      "Enter a number to check if it's prime:  29\n"
     ]
    },
    {
     "name": "stdout",
     "output_type": "stream",
     "text": [
      "29 is a prime number.\n"
     ]
    }
   ],
   "source": [
    "#function to check if a number is prime\n",
    "def is_prime(number):\n",
    "    if number <= 1:\n",
    "        return False \n",
    "    for i in range(2, int(number**0.5) + 1):\n",
    "        if number % i == 0:\n",
    "            return False  # Found a factor, not prime\n",
    "    return True  # No factors found, number is prime\n",
    "\n",
    "#function for number is prime or not\n",
    "num = int(input(\"Enter a number to check if it's prime: \"))\n",
    "\n",
    "if is_prime(num):\n",
    "    print(f\"{num} is a prime number.\")\n",
    "else:\n",
    "    print(f\"{num} is not a prime number.\")"
   ]
  },
  {
   "cell_type": "code",
   "execution_count": null,
   "id": "023703ff-19f1-45a8-ac8d-e26e1b8f1662",
   "metadata": {},
   "outputs": [],
   "source": []
  }
 ],
 "metadata": {
  "kernelspec": {
   "display_name": "Python [conda env:base] *",
   "language": "python",
   "name": "conda-base-py"
  },
  "language_info": {
   "codemirror_mode": {
    "name": "ipython",
    "version": 3
   },
   "file_extension": ".py",
   "mimetype": "text/x-python",
   "name": "python",
   "nbconvert_exporter": "python",
   "pygments_lexer": "ipython3",
   "version": "3.12.7"
  }
 },
 "nbformat": 4,
 "nbformat_minor": 5
}
