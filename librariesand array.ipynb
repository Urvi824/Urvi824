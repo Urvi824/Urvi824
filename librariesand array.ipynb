{
 "cells": [
  {
   "cell_type": "code",
   "execution_count": 4,
   "id": "659a8bad-19d8-487d-86d7-c3f03b1bd267",
   "metadata": {},
   "outputs": [
    {
     "name": "stdout",
     "output_type": "stream",
     "text": [
      "numpy version 1.26.4\n",
      "pandas version 2.2.2\n"
     ]
    }
   ],
   "source": [
    "#using libraries \n",
    "import numpy as np     \n",
    "import pandas as pd\n",
    "\n",
    "print(\"numpy version\",np.__version__)\n",
    "print(\"pandas version\",pd.__version__)"
   ]
  },
  {
   "cell_type": "code",
   "execution_count": 5,
   "id": "e3dd585a-002f-423a-87f3-49473039d862",
   "metadata": {},
   "outputs": [
    {
     "name": "stdout",
     "output_type": "stream",
     "text": [
      "[1 2 3 4 5]\n"
     ]
    }
   ],
   "source": [
    "# create a simple 1d array\n",
    "import numpy as np\n",
    "arr = np.array([1,2,3,4,5])\n",
    "print(arr) "
   ]
  },
  {
   "cell_type": "code",
   "execution_count": 6,
   "id": "26d0b36b-24c1-4abd-b3f9-292b4735c907",
   "metadata": {},
   "outputs": [
    {
     "name": "stdout",
     "output_type": "stream",
     "text": [
      "[ 1  2  3  4  5  6  7  8  9 10 11 12 13 14 15]\n"
     ]
    }
   ],
   "source": [
    "\n",
    "import numpy as np\n",
    "arr1 = np.array([1,2,3,4,5,6,7,8,9,10,11,12,13,14,15])\n",
    "arr1\n",
    "print(arr1) "
   ]
  },
  {
   "cell_type": "code",
   "execution_count": 10,
   "id": "e0bb7999-7ede-4e3b-bc15-8d080c86833a",
   "metadata": {},
   "outputs": [
    {
     "data": {
      "text/plain": [
       "array([1, 2, 3, 4, 5, 6, 7, 8])"
      ]
     },
     "execution_count": 10,
     "metadata": {},
     "output_type": "execute_result"
    }
   ],
   "source": [
    "#with print and without print\n",
    "import numpy as np\n",
    "#[1,2,3,4,5,6,7,8]\n",
    "#np.array()\n",
    "np_arr = np.array([1,2,3,4,5,6,7,8])\n",
    "np_arr\n",
    "#print(np_arr)"
   ]
  },
  {
   "cell_type": "code",
   "execution_count": 14,
   "id": "6c963bb6-2d8b-4d2f-8a06-1870b954d9ba",
   "metadata": {},
   "outputs": [
    {
     "name": "stdout",
     "output_type": "stream",
     "text": [
      "[[1 2 3]\n",
      " [4 5 6]]\n"
     ]
    }
   ],
   "source": [
    "# create two array\n",
    "import numpy as np\n",
    "#arr2 =np.array([1,2,3],[4,5,6])\n",
    "arr2 =np.array([[1,2,3],[4,5,6]])\n",
    "print(arr2)"
   ]
  },
  {
   "cell_type": "code",
   "execution_count": 20,
   "id": "1228b9dd-117b-4bd7-8deb-b5be02cc9ac2",
   "metadata": {},
   "outputs": [
    {
     "data": {
      "text/plain": [
       "array([5, 6, 7, 8])"
      ]
     },
     "execution_count": 20,
     "metadata": {},
     "output_type": "execute_result"
    }
   ],
   "source": [
    "#slicing array\n",
    "import numpy as np\n",
    "arr3 =np.array([1,2,3,4,5,6,7,8,9])\n",
    "#first 4 number in array\n",
    "#arr3[0:4]\n",
    "#arr3[:5]\n",
    "#arr3[0:]\n",
    "#arr3[:]\n",
    "#arr3[-1]\n",
    "#end of list\n",
    "#arr3[4:]\n",
    "#start of array\n",
    "#arr3[-1:-5]\n",
    "#arr3[-5:-1]\n"
   ]
  },
  {
   "cell_type": "code",
   "execution_count": 4,
   "id": "5bc0dcb8-ce42-4c41-9e26-cb8e2e252d28",
   "metadata": {},
   "outputs": [],
   "source": [
    "import numpy as np\n",
    "#arr4 = np.array([1,2,3,4,5,6,7,8,9,10])\n",
    "#arr4[-3:]\n",
    "#arr4.ndim\n",
    "#arr4.size\n",
    "#arr4.dtype\n",
    "#arr4.itemsize\n",
    "#ar = np.arrange(12).reshape(4,3)\n",
    "#ar.reshape(1,15)\n",
    "#ar.reshape(4,3)"
   ]
  },
  {
   "cell_type": "code",
   "execution_count": null,
   "id": "047e7b86-6d96-493f-9119-1790fc1342e0",
   "metadata": {},
   "outputs": [],
   "source": []
  }
 ],
 "metadata": {
  "kernelspec": {
   "display_name": "Python [conda env:base] *",
   "language": "python",
   "name": "conda-base-py"
  },
  "language_info": {
   "codemirror_mode": {
    "name": "ipython",
    "version": 3
   },
   "file_extension": ".py",
   "mimetype": "text/x-python",
   "name": "python",
   "nbconvert_exporter": "python",
   "pygments_lexer": "ipython3",
   "version": "3.12.7"
  }
 },
 "nbformat": 4,
 "nbformat_minor": 5
}
