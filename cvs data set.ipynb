{
 "cells": [
  {
   "cell_type": "code",
   "execution_count": 9,
   "id": "5792e3ea-5248-440a-9e6c-22d5026e1edb",
   "metadata": {},
   "outputs": [
    {
     "name": "stdout",
     "output_type": "stream",
     "text": [
      "0    5.1\n",
      "1    4.9\n",
      "2    4.7\n",
      "3    4.6\n",
      "4    5.0\n",
      "Name: SepalLengthCm, dtype: float64\n"
     ]
    }
   ],
   "source": [
    "#example for cvs file \n",
    "\n",
    "import numpy as np\n",
    "import pandas as pd\n",
    "\n",
    "df = pd.read_csv(\"Iris.csv\")\n",
    "\n",
    "#print(df.head())\n",
    "#first ten rows\n",
    "#df.head(10)\n",
    "# last ten rows\n",
    "#df.tail()\n",
    "#df.tail(20)\n",
    "\n",
    "#information for cvs file\n",
    "#df.info()\n",
    "#print(df.tail(20))\n",
    "#based of index value or location\n",
    "#first_row = df.iloc[0]\n",
    "#df.iloc[4]\n",
    "#line of control\n",
    "#first_row_label = df.iloc[0]\n",
    "#df.loc[4]\n",
    "\n",
    "#difference of loc and iloc\n",
    "#filter data\n",
    "#df[df['PetalLengthCm'] > 1.5]\n",
    "\n",
    "#add two different column \n",
    "#df['Sepal'] =df[\"SepalLengthCm\"] + df[\"SepalWidthCm\"]\n",
    "#df['Sepal']\n",
    "#df\n",
    "\n",
    "#drop column name\n",
    "#df.drop('Sepal', axis=1 ,inplace=False)\n",
    "#df.drop(3, axis=1 ,inplace=False)\n",
    "#df\n",
    "\n",
    "#group for data\n",
    "#grouped_data =  df.groupby('Sepal').mean()\n",
    "print(df[\"SepalLengthCm\"].head())\n",
    "\n",
    "#grouped_data = df.groupby('SepalLengthCm').mean(numeric_only=True)\n",
    "#print(grouped_data)\n",
    "\n"
   ]
  },
  {
   "cell_type": "code",
   "execution_count": null,
   "id": "e41a6aa8-3ea9-44b8-aff4-934b985aa7d5",
   "metadata": {},
   "outputs": [],
   "source": []
  }
 ],
 "metadata": {
  "kernelspec": {
   "display_name": "Python [conda env:base] *",
   "language": "python",
   "name": "conda-base-py"
  },
  "language_info": {
   "codemirror_mode": {
    "name": "ipython",
    "version": 3
   },
   "file_extension": ".py",
   "mimetype": "text/x-python",
   "name": "python",
   "nbconvert_exporter": "python",
   "pygments_lexer": "ipython3",
   "version": "3.12.7"
  }
 },
 "nbformat": 4,
 "nbformat_minor": 5
}
