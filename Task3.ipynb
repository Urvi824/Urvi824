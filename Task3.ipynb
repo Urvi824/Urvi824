{
 "cells": [
  {
   "cell_type": "code",
   "execution_count": 3,
   "id": "8fe236b2-8e81-4085-bd97-f450c60c2414",
   "metadata": {},
   "outputs": [
    {
     "name": "stdin",
     "output_type": "stream",
     "text": [
      "Enter a number to find its factorial:  5\n"
     ]
    },
    {
     "name": "stdout",
     "output_type": "stream",
     "text": [
      "The factorial of 5 is 120\n"
     ]
    }
   ],
   "source": [
    "#Recursive function to find factorial\n",
    "def factorial(n):\n",
    "    if n == 0 or n == 1:\n",
    "        return 1  # Base case\n",
    "    else:\n",
    "        return n * factorial(n - 1)  # Recursive call\n",
    "\n",
    "# input from user\n",
    "num = int(input(\"Enter a number to find its factorial: \"))\n",
    "\n",
    "# Check for number\n",
    "if num < 0:\n",
    "    print(\"Factorial is not defined for negative numbers.\")\n",
    "else:\n",
    "    result = factorial(num)\n",
    "    print(f\"The factorial of {num} is {result}\")"
   ]
  },
  {
   "cell_type": "code",
   "execution_count": 5,
   "id": "e3b6caa3-51f6-4764-8061-55167a61309b",
   "metadata": {},
   "outputs": [
    {
     "name": "stdin",
     "output_type": "stream",
     "text": [
      "Enter the number of terms:  10\n"
     ]
    },
    {
     "name": "stdout",
     "output_type": "stream",
     "text": [
      "Fibonacci sequence:\n",
      "0 1 1 2 3 5 8 13 21 34 "
     ]
    }
   ],
   "source": [
    "# Get number from the user\n",
    "num_terms = int(input(\"Enter the number of terms: \"))\n",
    "\n",
    "# Check for input\n",
    "if num_terms <= 0:\n",
    "    print(\"Please enter a positive integer.\")\n",
    "else:\n",
    "    # First two terms\n",
    "    n1, n2 = 0, 1\n",
    "    count = 0\n",
    "\n",
    "    print(\"Fibonacci sequence:\")\n",
    "\n",
    "    while count < num_terms:\n",
    "        print(n1, end=\" \")\n",
    "        nth = n1 + n2  \n",
    "        n1 = n2\n",
    "        n2 = nth\n",
    "        count += 1"
   ]
  },
  {
   "cell_type": "code",
   "execution_count": 7,
   "id": "445bec4b-cfa7-4017-aac6-ce0086e1a66b",
   "metadata": {},
   "outputs": [
    {
     "name": "stdin",
     "output_type": "stream",
     "text": [
      "Enter a number:  15\n"
     ]
    },
    {
     "name": "stdout",
     "output_type": "stream",
     "text": [
      "The sum of digits of 15 is 6\n"
     ]
    }
   ],
   "source": [
    "#sum of digits\n",
    "def sum_of_digits(number):\n",
    "    total = 0\n",
    "    while number > 0:\n",
    "        digit = number % 10  \n",
    "        total += digit       # Add it to the total\n",
    "        number = number // 10  # Remove the last digit\n",
    "    return total\n",
    "\n",
    "# input from user\n",
    "num = int(input(\"Enter a number: \"))\n",
    "\n",
    "# Call the function \n",
    "result = sum_of_digits(num)\n",
    "print(f\"The sum of digits of {num} is {result}\")"
   ]
  },
  {
   "cell_type": "code",
   "execution_count": null,
   "id": "a7107f5c-3966-4276-b58a-434ffde84b51",
   "metadata": {},
   "outputs": [],
   "source": []
  }
 ],
 "metadata": {
  "kernelspec": {
   "display_name": "Python [conda env:base] *",
   "language": "python",
   "name": "conda-base-py"
  },
  "language_info": {
   "codemirror_mode": {
    "name": "ipython",
    "version": 3
   },
   "file_extension": ".py",
   "mimetype": "text/x-python",
   "name": "python",
   "nbconvert_exporter": "python",
   "pygments_lexer": "ipython3",
   "version": "3.12.7"
  }
 },
 "nbformat": 4,
 "nbformat_minor": 5
}
