{
 "cells": [
  {
   "cell_type": "code",
   "execution_count": 3,
   "id": "a2efd503-230c-4031-982a-6c23f496df96",
   "metadata": {},
   "outputs": [
    {
     "name": "stdin",
     "output_type": "stream",
     "text": [
      "Enter your age: 14\n"
     ]
    },
    {
     "name": "stdout",
     "output_type": "stream",
     "text": [
      "Sorry!, you are not eligible for vote!\n"
     ]
    }
   ],
   "source": [
    "# Eligible for vote or not\n",
    "\n",
    "#ask the user for input their age\n",
    "age =int(input(\"Enter your age:\"))\n",
    "\n",
    "#check if the user is eligible for vote or not\n",
    "if age >= 18:\n",
    "    print(\"You are eligible for vote!\")\n",
    "else:\n",
    "    print(\"Sorry!, you are not eligible for vote!\")"
   ]
  },
  {
   "cell_type": "code",
   "execution_count": 7,
   "id": "501bfc11-f796-408d-b3f6-54909120c9b0",
   "metadata": {},
   "outputs": [
    {
     "name": "stdin",
     "output_type": "stream",
     "text": [
      "Enter the First number: 5\n",
      "Enter the Second number: 5\n"
     ]
    },
    {
     "name": "stdout",
     "output_type": "stream",
     "text": [
      "Select operation from below \n",
      "1. Addition\n",
      "2. Subtraction\n",
      "3. Multiplication\n",
      "4. Division\n"
     ]
    },
    {
     "name": "stdin",
     "output_type": "stream",
     "text": [
      "Enter the operation (Addition,subtraction,Multiplication,Division): Addition\n"
     ]
    },
    {
     "name": "stdout",
     "output_type": "stream",
     "text": [
      "The ans of 5.0 + 5.0 is 10.0\n"
     ]
    }
   ],
   "source": [
    "# simple calculator\n",
    "\n",
    "#enter a value from user\n",
    "num1 =float(input(\"Enter the First number:\"))\n",
    "num2 =float(input(\"Enter the Second number:\"))\n",
    "\n",
    "#user from operation\n",
    "print(\"Select operation from below \")\n",
    "print(\"1. Addition\")\n",
    "print(\"2. Subtraction\")\n",
    "print(\"3. Multiplication\")\n",
    "print(\"4. Division\")\n",
    "\n",
    "operation = input(\"Enter the operation (Addition,subtraction,Multiplication,Division):\")\n",
    "\n",
    "#using conditional statements\n",
    "\n",
    "if operation == \"Addition\":\n",
    "    result = num1 + num2\n",
    "    print(f\"The ans of {num1} + {num2} is {result}\")\n",
    "elif operation == \"Subtraction\":\n",
    "    result = num1 - num2\n",
    "    print(f\"The ans of {num1} - {num2} is {result}\")  \n",
    "elif operation == \"Multiplication\":\n",
    "    result = num1 * num2\n",
    "    print(f\"The ans of {num1} * {num2} is {result}\")  \n",
    "elif operation == 'Division':\n",
    "    if num2 != 0:\n",
    "        result = num1 / num2\n",
    "        print(f\"The result of {num1} / {num2} is {result}\")\n",
    "    else:\n",
    "        print(\"Error: Division by zero is not allowed.\")\n",
    "else:\n",
    "    print(\"Invalid operation selected.\")\n",
    "\n"
   ]
  },
  {
   "cell_type": "code",
   "execution_count": null,
   "id": "7be45bbc-506d-4434-942e-8c2139ba789a",
   "metadata": {},
   "outputs": [],
   "source": []
  }
 ],
 "metadata": {
  "kernelspec": {
   "display_name": "Python [conda env:base] *",
   "language": "python",
   "name": "conda-base-py"
  },
  "language_info": {
   "codemirror_mode": {
    "name": "ipython",
    "version": 3
   },
   "file_extension": ".py",
   "mimetype": "text/x-python",
   "name": "python",
   "nbconvert_exporter": "python",
   "pygments_lexer": "ipython3",
   "version": "3.12.7"
  }
 },
 "nbformat": 4,
 "nbformat_minor": 5
}
