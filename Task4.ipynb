{
 "cells": [
  {
   "cell_type": "code",
   "execution_count": 8,
   "id": "68a17aac-9f8f-4338-a97c-0a38563a3264",
   "metadata": {},
   "outputs": [
    {
     "name": "stdin",
     "output_type": "stream",
     "text": [
      "Enter a decimal number:  10\n"
     ]
    },
    {
     "name": "stdout",
     "output_type": "stream",
     "text": [
      "The binary representation of 10 is 1010\n"
     ]
    }
   ],
   "source": [
    "# Get decimal number from the user\n",
    "decimal_number = int(input(\"Enter a decimal number: \"))\n",
    "\n",
    "# Check for zero\n",
    "if decimal_number == 0:\n",
    "    print(\"The binary representation is 0\")\n",
    "else:\n",
    "    binary = \"\"\n",
    "    num = decimal_number\n",
    "\n",
    "    while num > 0:\n",
    "        remainder = num % 2\n",
    "        binary = str(remainder) + binary\n",
    "        num = num // 2\n",
    "\n",
    "    print(f\"The binary representation of {decimal_number} is {binary}\")\n"
   ]
  },
  {
   "cell_type": "code",
   "execution_count": null,
   "id": "e9def631-bb76-4902-9d3c-16021b8df204",
   "metadata": {},
   "outputs": [],
   "source": [
    "# Function to compute GCD using Euclid's algorithm\n",
    "def gcd(a, b):\n",
    "    while b != 0:\n",
    "        a, b = b, a % b\n",
    "    return a\n",
    "\n",
    "# input from user\n",
    "num1 = int(input(\"Enter the first number: \"))\n",
    "num2 = int(input(\"Enter the second number: \"))\n",
    "\n",
    "# Call the function and display result\n",
    "result = gcd(num1, num2)\n",
    "print(f\"The GCD of {num1} and {num2} is {result}\")"
   ]
  },
  {
   "cell_type": "code",
   "execution_count": null,
   "id": "aae9782a-5c96-4347-80d2-4dd3108b965c",
   "metadata": {},
   "outputs": [],
   "source": []
  }
 ],
 "metadata": {
  "kernelspec": {
   "display_name": "Python [conda env:base] *",
   "language": "python",
   "name": "conda-base-py"
  },
  "language_info": {
   "codemirror_mode": {
    "name": "ipython",
    "version": 3
   },
   "file_extension": ".py",
   "mimetype": "text/x-python",
   "name": "python",
   "nbconvert_exporter": "python",
   "pygments_lexer": "ipython3",
   "version": "3.12.7"
  }
 },
 "nbformat": 4,
 "nbformat_minor": 5
}
