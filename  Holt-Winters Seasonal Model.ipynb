{
 "cells": [
  {
   "cell_type": "code",
   "execution_count": 1,
   "id": "90b5a3a1-d93d-4e78-b9bc-d4e89bde9730",
   "metadata": {},
   "outputs": [],
   "source": [
    "#import libaries\n",
    "from statsmodels.tsa.holtwinters import ExponentialSmoothing"
   ]
  },
  {
   "cell_type": "code",
   "execution_count": 2,
   "id": "546875c0-6c53-4809-9a01-47f6e9bea6be",
   "metadata": {},
   "outputs": [],
   "source": [
    "# Load data\n",
    "series = [50, 52, 53, 54, 56, 57] "
   ]
  },
  {
   "cell_type": "code",
   "execution_count": 3,
   "id": "f43cf4c4-dc7a-48e4-a761-eeb18ce00874",
   "metadata": {},
   "outputs": [],
   "source": [
    "# Fit model\n",
    "model = ExponentialSmoothing(series, trend='add', seasonal='add',seasonal_periods=2)\n",
    "model_fit = model.fit()"
   ]
  },
  {
   "cell_type": "code",
   "execution_count": 5,
   "id": "ca3cad86-0fbb-4622-b8d8-b45a2c3653a1",
   "metadata": {},
   "outputs": [
    {
     "name": "stdout",
     "output_type": "stream",
     "text": [
      "[58.50014205 59.83301372 61.25011823 62.5829899 ]\n"
     ]
    }
   ],
   "source": [
    "# Forecast\n",
    "forecast = model_fit.forecast(steps=4)\n",
    "print(forecast)"
   ]
  },
  {
   "cell_type": "code",
   "execution_count": null,
   "id": "6e97039c-1085-4123-87a4-203ef0ed6952",
   "metadata": {},
   "outputs": [],
   "source": []
  }
 ],
 "metadata": {
  "kernelspec": {
   "display_name": "Python [conda env:base] *",
   "language": "python",
   "name": "conda-base-py"
  },
  "language_info": {
   "codemirror_mode": {
    "name": "ipython",
    "version": 3
   },
   "file_extension": ".py",
   "mimetype": "text/x-python",
   "name": "python",
   "nbconvert_exporter": "python",
   "pygments_lexer": "ipython3",
   "version": "3.12.7"
  }
 },
 "nbformat": 4,
 "nbformat_minor": 5
}
