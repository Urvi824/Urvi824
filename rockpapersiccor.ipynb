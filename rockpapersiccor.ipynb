{
 "cells": [
  {
   "cell_type": "code",
   "execution_count": null,
   "id": "73b85458-8db4-4995-8422-c7778f7412fc",
   "metadata": {},
   "outputs": [],
   "source": [
    "user_input = input(\"Enter your prompt here:\")"
   ]
  },
  {
   "cell_type": "code",
   "execution_count": 7,
   "id": "7b67071f-a2fb-4b40-9f0b-5eb2294a0d6a",
   "metadata": {},
   "outputs": [
    {
     "name": "stdin",
     "output_type": "stream",
     "text": [
      "enter rock, paper, or scissors: paper\n"
     ]
    },
    {
     "name": "stdout",
     "output_type": "stream",
     "text": [
      "You choose paper and the computer choose rock. You win!\n"
     ]
    }
   ],
   "source": [
    "#Rock Paper Scissors Game\n",
    "import random\n",
    "\n",
    "choices  = [\"rock\",\"paper\", \"scissors\"]\n",
    "\n",
    "computer_choice = random.choice(choices)\n",
    "\n",
    "player_choice = input(\"enter rock, paper, or scissors:\").lower()\n",
    "\n",
    "if player_choice == computer_choice:\n",
    "    print(f\"Both choose {player_choice}. IT's a tie!\")\n",
    "elif (player_choice == \"rock\" and computer_choice == \"scissors\") or \\\n",
    "         (player_choice == \"scissors\" and computer_choice == \"paper\") or \\\n",
    "         (player_choice == \"paper\" and computer_choice == \"rock\"):\n",
    "    print(f\"You choose {player_choice} and the computer choose {computer_choice}. You win!\")\n",
    "else:\n",
    "   print(f\"You Choose {player_choice} and the computer choose {computer_choice}. You lose!\")\n",
    "      "
   ]
  },
  {
   "cell_type": "code",
   "execution_count": null,
   "id": "1fd9ad84-a302-45a7-8a3a-ecd76c9e89bd",
   "metadata": {},
   "outputs": [],
   "source": []
  },
  {
   "cell_type": "code",
   "execution_count": null,
   "id": "861dbe7d-7504-4cc9-b38b-0110c1c1822f",
   "metadata": {},
   "outputs": [
    {
     "name": "stdin",
     "output_type": "stream",
     "text": [
      "Guess a number between 1 and 100:  65\n"
     ]
    },
    {
     "name": "stdout",
     "output_type": "stream",
     "text": [
      "Too low!\n"
     ]
    },
    {
     "name": "stdin",
     "output_type": "stream",
     "text": [
      "Guess a number between 1 and 100:  62\n"
     ]
    },
    {
     "name": "stdout",
     "output_type": "stream",
     "text": [
      "Too low!\n"
     ]
    }
   ],
   "source": [
    "#guess the number\n",
    "\n",
    "import random\n",
    "\n",
    "number = random.randint(1, 100)\n",
    "guess = 0\n",
    "\n",
    "while guess != number:\n",
    "    guess = int(input(\"Guess a number between 1 and 100: \"))\n",
    "    \n",
    "    if guess < number:\n",
    "        print(\"Too low!\")\n",
    "    elif guess > number:\n",
    "        print(\"Too high!\")\n",
    "\n",
    "print(\"Congratulations! You guessed the number!\")"
   ]
  },
  {
   "cell_type": "code",
   "execution_count": 2,
   "id": "3b6a329c-f358-46f7-ba26-83d41e44b99c",
   "metadata": {},
   "outputs": [
    {
     "name": "stdin",
     "output_type": "stream",
     "text": [
      "Guess the number (between 1 and 10):  3\n"
     ]
    },
    {
     "name": "stdout",
     "output_type": "stream",
     "text": [
      "Try again!\n"
     ]
    },
    {
     "name": "stdin",
     "output_type": "stream",
     "text": [
      "Guess the number (between 1 and 10):  2\n"
     ]
    },
    {
     "name": "stdout",
     "output_type": "stream",
     "text": [
      "Correct! You guessed the number.\n"
     ]
    }
   ],
   "source": [
    "import random\n",
    "# random number between 1 and 10\n",
    "secret_number = random.randint(1, 10)\n",
    "# Player's guess\n",
    "while True:\n",
    "    guess = int(input(\"Guess the number (between 1 and 10): \"))\n",
    "    \n",
    "    if guess == secret_number:\n",
    "       print(\"Correct! You guessed the number.\")\n",
    "       break\n",
    "    else:\n",
    "        print(\"Try again!\")"
   ]
  },
  {
   "cell_type": "code",
   "execution_count": null,
   "id": "d337a54e-6468-4c3d-b5dd-031eb5d806b3",
   "metadata": {},
   "outputs": [],
   "source": []
  }
 ],
 "metadata": {
  "kernelspec": {
   "display_name": "Python [conda env:base] *",
   "language": "python",
   "name": "conda-base-py"
  },
  "language_info": {
   "codemirror_mode": {
    "name": "ipython",
    "version": 3
   },
   "file_extension": ".py",
   "mimetype": "text/x-python",
   "name": "python",
   "nbconvert_exporter": "python",
   "pygments_lexer": "ipython3",
   "version": "3.12.7"
  }
 },
 "nbformat": 4,
 "nbformat_minor": 5
}
